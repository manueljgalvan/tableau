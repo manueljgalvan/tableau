{
 "cells": [
  {
   "cell_type": "code",
   "execution_count": null,
   "metadata": {
    "vscode": {
     "languageId": "plaintext"
    }
   },
   "outputs": [],
   "source": [
    "import pandas as pd\n",
    "import glob\n",
    "\n",
    "# Step 1: Load all CSV files from a specified directory\n",
    "file_path = './data/'  # Update with your file path\n",
    "all_files = glob.glob(file_path + \"*.csv\")\n",
    "\n",
    "# Step 2: Combine all CSV files into one DataFrame\n",
    "df_list = [pd.read_csv(file) for file in all_files]\n",
    "combined_df = pd.concat(df_list, ignore_index=True)\n",
    "\n",
    "# Step 3: Clean up column names\n",
    "# Example: Strip leading/trailing spaces, lowercase, and replace spaces with underscores\n",
    "combined_df.columns = combined_df.columns.str.strip().str.lower().str.replace(' ', '_')\n",
    "\n",
    "# # Step 4: Rename columns as needed\n",
    "combined_df = combined_df.rename(columns={\n",
    "    \"ride_id\": \"Ride ID\",\n",
    "    \"rideable_type\": \"Rideable Type\",\n",
    "    \"started_at\": \"Started At\",\n",
    "    \"ended_at\": \"Ended At\",\n",
    "    \"start_station_name\": \"Start Station Name\",\n",
    "    \"start_station_id\": \"Start Station ID\",\n",
    "    \"end_station_name\": \"End Station Name\",\n",
    "    \"end_station_id\": \"End Station ID\",\n",
    "    \"start_lat\": \"Start Latitude\",\n",
    "    \"start_lng\": \"Start Longitude\",\n",
    "    \"end_lat\": \"End Latitude\",\n",
    "    \"end_lng\": \"End Longitude\",\n",
    "    \"member_casual\": \"Type of User\"\n",
    "})\n",
    "\n",
    "# Save combined DataFrame to a new CSV file if desired\n",
    "combined_df.to_csv('./data/combined_2023.csv', index=False)\n",
    "\n",
    "print(\"Combined DataFrame created with 'Total Time of Trip' calculated.\")"
   ]
  }
 ],
 "metadata": {
  "language_info": {
   "name": "python"
  }
 },
 "nbformat": 4,
 "nbformat_minor": 2
}
